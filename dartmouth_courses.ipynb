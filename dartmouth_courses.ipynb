{
  "cells": [
    {
      "cell_type": "code",
      "source": [
        "import sklearn\n",
        "import scipy\n",
        "import pandas as pd \n",
        "import matplotlib.pyplot as plt \n",
        "import seaborn as sns\n",
        "import numpy as np\n",
        "\n",
        "# read in imputed data\n",
        "df = pd.read_csv(\"courses.csv\")\n",
        "\n",
        "# rename columns for easier typing\n",
        "df = df.rename(columns={\"Year\": \"year\", \"Term.Number\": \"term\", \"Department\": \"department\", \"Course.Number\": \"course_number\", \"Number.of.Sections\": \"number_sections\", \"Enrollments\": \"enrollments\", \"Median.GPA.Points\": \"median_gpa\", \"Average.Section.Size\": \"avg_size\"})\n",
        "\n",
        "df.head(20)"
      ],
      "metadata": {
        "colab": {
          "base_uri": "https://localhost:8080/",
          "height": 677
        },
        "id": "VwPfszNnXOMW",
        "outputId": "b4b33c34-02bc-4e9a-ffa7-3a6a6c8ccc06"
      },
      "execution_count": 31,
      "outputs": [
        {
          "output_type": "execute_result",
          "data": {
            "text/plain": [
              "    year  term department  course_number  number_sections  enrollments  \\\n",
              "0   2021     3       AAAS          31.10                1           14   \n",
              "1   2021     3       AAAS          31.90                1           17   \n",
              "2   2021     3       AAAS          60.01                1           19   \n",
              "3   2021     3       AAAS          62.75                1           29   \n",
              "4   2021     3       AAAS          65.65                1           16   \n",
              "5   2021     3       AAAS          88.19                1           19   \n",
              "6   2021     3       ANTH           3.00                1           58   \n",
              "7   2021     3       ANTH          18.00                1           16   \n",
              "8   2021     3        NaN          12.19                1           24   \n",
              "9   2021     3       ARTH          17.06                1           21   \n",
              "10  2021     3       ARTH          47.01                1           27   \n",
              "11  2021     3       ARTH          62.71                1           19   \n",
              "12  2021     3       ASCL          54.09                1           22   \n",
              "13  2021     3       ASCL          60.24                1           25   \n",
              "14  2021     3       ASCL          70.18                2           88   \n",
              "15  2021     3       ASTR           1.00                1           97   \n",
              "16  2021     3       ASTR           2.00                2           62   \n",
              "17  2021     3       BIOL          13.00                1           71   \n",
              "18  2021     3       BIOL           8.04                1           13   \n",
              "19  2021     3       BIOL          45.00                1           19   \n",
              "\n",
              "    median_gpa  avg_size  \n",
              "0     4.000000      14.0  \n",
              "1     4.000000      17.0  \n",
              "2     3.666667      14.0  \n",
              "3     4.000000      29.0  \n",
              "4     3.333333      16.0  \n",
              "5     4.000000      19.0  \n",
              "6     3.666667      58.0  \n",
              "7     4.000000      16.0  \n",
              "8     4.000000      24.0  \n",
              "9     3.666667      21.0  \n",
              "10    3.666667      27.0  \n",
              "11    3.666667      21.0  \n",
              "12    3.666667      22.0  \n",
              "13    4.000000      25.0  \n",
              "14    4.000000      44.0  \n",
              "15    3.333333      97.0  \n",
              "16    4.000000      31.0  \n",
              "17    3.000000      71.0  \n",
              "18    4.000000      13.0  \n",
              "19    4.000000      19.0  "
            ],
            "text/html": [
              "\n",
              "  <div id=\"df-66312093-60bb-4b6b-b290-75bd75afc9ad\">\n",
              "    <div class=\"colab-df-container\">\n",
              "      <div>\n",
              "<style scoped>\n",
              "    .dataframe tbody tr th:only-of-type {\n",
              "        vertical-align: middle;\n",
              "    }\n",
              "\n",
              "    .dataframe tbody tr th {\n",
              "        vertical-align: top;\n",
              "    }\n",
              "\n",
              "    .dataframe thead th {\n",
              "        text-align: right;\n",
              "    }\n",
              "</style>\n",
              "<table border=\"1\" class=\"dataframe\">\n",
              "  <thead>\n",
              "    <tr style=\"text-align: right;\">\n",
              "      <th></th>\n",
              "      <th>year</th>\n",
              "      <th>term</th>\n",
              "      <th>department</th>\n",
              "      <th>course_number</th>\n",
              "      <th>number_sections</th>\n",
              "      <th>enrollments</th>\n",
              "      <th>median_gpa</th>\n",
              "      <th>avg_size</th>\n",
              "    </tr>\n",
              "  </thead>\n",
              "  <tbody>\n",
              "    <tr>\n",
              "      <th>0</th>\n",
              "      <td>2021</td>\n",
              "      <td>3</td>\n",
              "      <td>AAAS</td>\n",
              "      <td>31.10</td>\n",
              "      <td>1</td>\n",
              "      <td>14</td>\n",
              "      <td>4.000000</td>\n",
              "      <td>14.0</td>\n",
              "    </tr>\n",
              "    <tr>\n",
              "      <th>1</th>\n",
              "      <td>2021</td>\n",
              "      <td>3</td>\n",
              "      <td>AAAS</td>\n",
              "      <td>31.90</td>\n",
              "      <td>1</td>\n",
              "      <td>17</td>\n",
              "      <td>4.000000</td>\n",
              "      <td>17.0</td>\n",
              "    </tr>\n",
              "    <tr>\n",
              "      <th>2</th>\n",
              "      <td>2021</td>\n",
              "      <td>3</td>\n",
              "      <td>AAAS</td>\n",
              "      <td>60.01</td>\n",
              "      <td>1</td>\n",
              "      <td>19</td>\n",
              "      <td>3.666667</td>\n",
              "      <td>14.0</td>\n",
              "    </tr>\n",
              "    <tr>\n",
              "      <th>3</th>\n",
              "      <td>2021</td>\n",
              "      <td>3</td>\n",
              "      <td>AAAS</td>\n",
              "      <td>62.75</td>\n",
              "      <td>1</td>\n",
              "      <td>29</td>\n",
              "      <td>4.000000</td>\n",
              "      <td>29.0</td>\n",
              "    </tr>\n",
              "    <tr>\n",
              "      <th>4</th>\n",
              "      <td>2021</td>\n",
              "      <td>3</td>\n",
              "      <td>AAAS</td>\n",
              "      <td>65.65</td>\n",
              "      <td>1</td>\n",
              "      <td>16</td>\n",
              "      <td>3.333333</td>\n",
              "      <td>16.0</td>\n",
              "    </tr>\n",
              "    <tr>\n",
              "      <th>5</th>\n",
              "      <td>2021</td>\n",
              "      <td>3</td>\n",
              "      <td>AAAS</td>\n",
              "      <td>88.19</td>\n",
              "      <td>1</td>\n",
              "      <td>19</td>\n",
              "      <td>4.000000</td>\n",
              "      <td>19.0</td>\n",
              "    </tr>\n",
              "    <tr>\n",
              "      <th>6</th>\n",
              "      <td>2021</td>\n",
              "      <td>3</td>\n",
              "      <td>ANTH</td>\n",
              "      <td>3.00</td>\n",
              "      <td>1</td>\n",
              "      <td>58</td>\n",
              "      <td>3.666667</td>\n",
              "      <td>58.0</td>\n",
              "    </tr>\n",
              "    <tr>\n",
              "      <th>7</th>\n",
              "      <td>2021</td>\n",
              "      <td>3</td>\n",
              "      <td>ANTH</td>\n",
              "      <td>18.00</td>\n",
              "      <td>1</td>\n",
              "      <td>16</td>\n",
              "      <td>4.000000</td>\n",
              "      <td>16.0</td>\n",
              "    </tr>\n",
              "    <tr>\n",
              "      <th>8</th>\n",
              "      <td>2021</td>\n",
              "      <td>3</td>\n",
              "      <td>NaN</td>\n",
              "      <td>12.19</td>\n",
              "      <td>1</td>\n",
              "      <td>24</td>\n",
              "      <td>4.000000</td>\n",
              "      <td>24.0</td>\n",
              "    </tr>\n",
              "    <tr>\n",
              "      <th>9</th>\n",
              "      <td>2021</td>\n",
              "      <td>3</td>\n",
              "      <td>ARTH</td>\n",
              "      <td>17.06</td>\n",
              "      <td>1</td>\n",
              "      <td>21</td>\n",
              "      <td>3.666667</td>\n",
              "      <td>21.0</td>\n",
              "    </tr>\n",
              "    <tr>\n",
              "      <th>10</th>\n",
              "      <td>2021</td>\n",
              "      <td>3</td>\n",
              "      <td>ARTH</td>\n",
              "      <td>47.01</td>\n",
              "      <td>1</td>\n",
              "      <td>27</td>\n",
              "      <td>3.666667</td>\n",
              "      <td>27.0</td>\n",
              "    </tr>\n",
              "    <tr>\n",
              "      <th>11</th>\n",
              "      <td>2021</td>\n",
              "      <td>3</td>\n",
              "      <td>ARTH</td>\n",
              "      <td>62.71</td>\n",
              "      <td>1</td>\n",
              "      <td>19</td>\n",
              "      <td>3.666667</td>\n",
              "      <td>21.0</td>\n",
              "    </tr>\n",
              "    <tr>\n",
              "      <th>12</th>\n",
              "      <td>2021</td>\n",
              "      <td>3</td>\n",
              "      <td>ASCL</td>\n",
              "      <td>54.09</td>\n",
              "      <td>1</td>\n",
              "      <td>22</td>\n",
              "      <td>3.666667</td>\n",
              "      <td>22.0</td>\n",
              "    </tr>\n",
              "    <tr>\n",
              "      <th>13</th>\n",
              "      <td>2021</td>\n",
              "      <td>3</td>\n",
              "      <td>ASCL</td>\n",
              "      <td>60.24</td>\n",
              "      <td>1</td>\n",
              "      <td>25</td>\n",
              "      <td>4.000000</td>\n",
              "      <td>25.0</td>\n",
              "    </tr>\n",
              "    <tr>\n",
              "      <th>14</th>\n",
              "      <td>2021</td>\n",
              "      <td>3</td>\n",
              "      <td>ASCL</td>\n",
              "      <td>70.18</td>\n",
              "      <td>2</td>\n",
              "      <td>88</td>\n",
              "      <td>4.000000</td>\n",
              "      <td>44.0</td>\n",
              "    </tr>\n",
              "    <tr>\n",
              "      <th>15</th>\n",
              "      <td>2021</td>\n",
              "      <td>3</td>\n",
              "      <td>ASTR</td>\n",
              "      <td>1.00</td>\n",
              "      <td>1</td>\n",
              "      <td>97</td>\n",
              "      <td>3.333333</td>\n",
              "      <td>97.0</td>\n",
              "    </tr>\n",
              "    <tr>\n",
              "      <th>16</th>\n",
              "      <td>2021</td>\n",
              "      <td>3</td>\n",
              "      <td>ASTR</td>\n",
              "      <td>2.00</td>\n",
              "      <td>2</td>\n",
              "      <td>62</td>\n",
              "      <td>4.000000</td>\n",
              "      <td>31.0</td>\n",
              "    </tr>\n",
              "    <tr>\n",
              "      <th>17</th>\n",
              "      <td>2021</td>\n",
              "      <td>3</td>\n",
              "      <td>BIOL</td>\n",
              "      <td>13.00</td>\n",
              "      <td>1</td>\n",
              "      <td>71</td>\n",
              "      <td>3.000000</td>\n",
              "      <td>71.0</td>\n",
              "    </tr>\n",
              "    <tr>\n",
              "      <th>18</th>\n",
              "      <td>2021</td>\n",
              "      <td>3</td>\n",
              "      <td>BIOL</td>\n",
              "      <td>8.04</td>\n",
              "      <td>1</td>\n",
              "      <td>13</td>\n",
              "      <td>4.000000</td>\n",
              "      <td>13.0</td>\n",
              "    </tr>\n",
              "    <tr>\n",
              "      <th>19</th>\n",
              "      <td>2021</td>\n",
              "      <td>3</td>\n",
              "      <td>BIOL</td>\n",
              "      <td>45.00</td>\n",
              "      <td>1</td>\n",
              "      <td>19</td>\n",
              "      <td>4.000000</td>\n",
              "      <td>19.0</td>\n",
              "    </tr>\n",
              "  </tbody>\n",
              "</table>\n",
              "</div>\n",
              "      <button class=\"colab-df-convert\" onclick=\"convertToInteractive('df-66312093-60bb-4b6b-b290-75bd75afc9ad')\"\n",
              "              title=\"Convert this dataframe to an interactive table.\"\n",
              "              style=\"display:none;\">\n",
              "        \n",
              "  <svg xmlns=\"http://www.w3.org/2000/svg\" height=\"24px\"viewBox=\"0 0 24 24\"\n",
              "       width=\"24px\">\n",
              "    <path d=\"M0 0h24v24H0V0z\" fill=\"none\"/>\n",
              "    <path d=\"M18.56 5.44l.94 2.06.94-2.06 2.06-.94-2.06-.94-.94-2.06-.94 2.06-2.06.94zm-11 1L8.5 8.5l.94-2.06 2.06-.94-2.06-.94L8.5 2.5l-.94 2.06-2.06.94zm10 10l.94 2.06.94-2.06 2.06-.94-2.06-.94-.94-2.06-.94 2.06-2.06.94z\"/><path d=\"M17.41 7.96l-1.37-1.37c-.4-.4-.92-.59-1.43-.59-.52 0-1.04.2-1.43.59L10.3 9.45l-7.72 7.72c-.78.78-.78 2.05 0 2.83L4 21.41c.39.39.9.59 1.41.59.51 0 1.02-.2 1.41-.59l7.78-7.78 2.81-2.81c.8-.78.8-2.07 0-2.86zM5.41 20L4 18.59l7.72-7.72 1.47 1.35L5.41 20z\"/>\n",
              "  </svg>\n",
              "      </button>\n",
              "      \n",
              "  <style>\n",
              "    .colab-df-container {\n",
              "      display:flex;\n",
              "      flex-wrap:wrap;\n",
              "      gap: 12px;\n",
              "    }\n",
              "\n",
              "    .colab-df-convert {\n",
              "      background-color: #E8F0FE;\n",
              "      border: none;\n",
              "      border-radius: 50%;\n",
              "      cursor: pointer;\n",
              "      display: none;\n",
              "      fill: #1967D2;\n",
              "      height: 32px;\n",
              "      padding: 0 0 0 0;\n",
              "      width: 32px;\n",
              "    }\n",
              "\n",
              "    .colab-df-convert:hover {\n",
              "      background-color: #E2EBFA;\n",
              "      box-shadow: 0px 1px 2px rgba(60, 64, 67, 0.3), 0px 1px 3px 1px rgba(60, 64, 67, 0.15);\n",
              "      fill: #174EA6;\n",
              "    }\n",
              "\n",
              "    [theme=dark] .colab-df-convert {\n",
              "      background-color: #3B4455;\n",
              "      fill: #D2E3FC;\n",
              "    }\n",
              "\n",
              "    [theme=dark] .colab-df-convert:hover {\n",
              "      background-color: #434B5C;\n",
              "      box-shadow: 0px 1px 3px 1px rgba(0, 0, 0, 0.15);\n",
              "      filter: drop-shadow(0px 1px 2px rgba(0, 0, 0, 0.3));\n",
              "      fill: #FFFFFF;\n",
              "    }\n",
              "  </style>\n",
              "\n",
              "      <script>\n",
              "        const buttonEl =\n",
              "          document.querySelector('#df-66312093-60bb-4b6b-b290-75bd75afc9ad button.colab-df-convert');\n",
              "        buttonEl.style.display =\n",
              "          google.colab.kernel.accessAllowed ? 'block' : 'none';\n",
              "\n",
              "        async function convertToInteractive(key) {\n",
              "          const element = document.querySelector('#df-66312093-60bb-4b6b-b290-75bd75afc9ad');\n",
              "          const dataTable =\n",
              "            await google.colab.kernel.invokeFunction('convertToInteractive',\n",
              "                                                     [key], {});\n",
              "          if (!dataTable) return;\n",
              "\n",
              "          const docLinkHtml = 'Like what you see? Visit the ' +\n",
              "            '<a target=\"_blank\" href=https://colab.research.google.com/notebooks/data_table.ipynb>data table notebook</a>'\n",
              "            + ' to learn more about interactive tables.';\n",
              "          element.innerHTML = '';\n",
              "          dataTable['output_type'] = 'display_data';\n",
              "          await google.colab.output.renderOutput(dataTable, element);\n",
              "          const docLink = document.createElement('div');\n",
              "          docLink.innerHTML = docLinkHtml;\n",
              "          element.appendChild(docLink);\n",
              "        }\n",
              "      </script>\n",
              "    </div>\n",
              "  </div>\n",
              "  "
            ]
          },
          "metadata": {},
          "execution_count": 31
        }
      ]
    },
    {
      "cell_type": "markdown",
      "source": [
        "# Data Visualization"
      ],
      "metadata": {
        "id": "w5clzcbIXm9s"
      }
    },
    {
      "cell_type": "code",
      "execution_count": 2,
      "metadata": {
        "colab": {
          "base_uri": "https://localhost:8080/"
        },
        "id": "qErXsptf9ZkY",
        "outputId": "4f266df0-216d-42a9-bff3-2a6e00f1b978"
      },
      "outputs": [
        {
          "output_type": "stream",
          "name": "stdout",
          "text": [
            "Looking in indexes: https://pypi.org/simple, https://us-python.pkg.dev/colab-wheels/public/simple/\n",
            "Collecting rpy2==3.5.1\n",
            "  Downloading rpy2-3.5.1.tar.gz (201 kB)\n",
            "\u001b[2K     \u001b[90m━━━━━━━━━━━━━━━━━━━━━━━━━━━━━━━━━━━━━━━\u001b[0m \u001b[32m201.7/201.7 kB\u001b[0m \u001b[31m3.5 MB/s\u001b[0m eta \u001b[36m0:00:00\u001b[0m\n",
            "\u001b[?25h  Preparing metadata (setup.py) ... \u001b[?25l\u001b[?25hdone\n",
            "Requirement already satisfied: cffi>=1.10.0 in /usr/local/lib/python3.10/dist-packages (from rpy2==3.5.1) (1.15.1)\n",
            "Requirement already satisfied: jinja2 in /usr/local/lib/python3.10/dist-packages (from rpy2==3.5.1) (3.1.2)\n",
            "Requirement already satisfied: pytz in /usr/local/lib/python3.10/dist-packages (from rpy2==3.5.1) (2022.7.1)\n",
            "Requirement already satisfied: tzlocal in /usr/local/lib/python3.10/dist-packages (from rpy2==3.5.1) (4.3)\n",
            "Requirement already satisfied: pycparser in /usr/local/lib/python3.10/dist-packages (from cffi>=1.10.0->rpy2==3.5.1) (2.21)\n",
            "Requirement already satisfied: MarkupSafe>=2.0 in /usr/local/lib/python3.10/dist-packages (from jinja2->rpy2==3.5.1) (2.1.2)\n",
            "Requirement already satisfied: pytz-deprecation-shim in /usr/local/lib/python3.10/dist-packages (from tzlocal->rpy2==3.5.1) (0.1.0.post0)\n",
            "Requirement already satisfied: tzdata in /usr/local/lib/python3.10/dist-packages (from pytz-deprecation-shim->tzlocal->rpy2==3.5.1) (2023.3)\n",
            "Building wheels for collected packages: rpy2\n",
            "  Building wheel for rpy2 (setup.py) ... \u001b[?25l\u001b[?25hdone\n",
            "  Created wheel for rpy2: filename=rpy2-3.5.1-cp310-cp310-linux_x86_64.whl size=318079 sha256=28f150327d45e4c7dec1e30409bd37c164f0fe7f47a68ee215efb3e1294bdd94\n",
            "  Stored in directory: /root/.cache/pip/wheels/73/a6/ff/4e75dd1ce1cfa2b9a670cbccf6a1e41c553199e9b25f05d953\n",
            "Successfully built rpy2\n",
            "Installing collected packages: rpy2\n",
            "  Attempting uninstall: rpy2\n",
            "    Found existing installation: rpy2 3.5.5\n",
            "    Uninstalling rpy2-3.5.5:\n",
            "      Successfully uninstalled rpy2-3.5.5\n",
            "Successfully installed rpy2-3.5.1\n"
          ]
        }
      ],
      "source": [
        "!pip install rpy2==3.5.1\n",
        "%load_ext rpy2.ipython"
      ]
    },
    {
      "cell_type": "code",
      "execution_count": 3,
      "metadata": {
        "id": "5VfHOz-PKUKW"
      },
      "outputs": [],
      "source": [
        "# suppress warnings that come with installing the wordcloud package \n",
        "from rpy2.rinterface_lib.callbacks import logger as rpy2_logger\n",
        "import logging\n",
        "rpy2_logger.setLevel(logging.ERROR)"
      ]
    },
    {
      "cell_type": "code",
      "execution_count": 5,
      "metadata": {
        "id": "LdA9wzLJ7-UF"
      },
      "outputs": [],
      "source": [
        "%%R\n",
        "install.packages(\"ggrepel\")"
      ]
    },
    {
      "cell_type": "code",
      "execution_count": 11,
      "metadata": {
        "colab": {
          "base_uri": "https://localhost:8080/"
        },
        "id": "TCwt86_99m77",
        "outputId": "4ec90b55-e6a2-4730-b436-719859b1f5cb"
      },
      "outputs": [
        {
          "output_type": "stream",
          "name": "stdout",
          "text": [
            "Rows: 1560 Columns: 8\n",
            "── Column specification ────────────────────────────────────────────────────────\n",
            "Delimiter: \",\"\n",
            "chr (1): Department\n",
            "dbl (7): Year, Term.Number, Course.Number, Number.of.Sections, Enrollments, ...\n",
            "\n",
            "ℹ Use `spec()` to retrieve the full column specification for this data.\n",
            "ℹ Specify the column types or set `show_col_types = FALSE` to quiet this message.\n",
            "# A tibble: 1,560 × 8\n",
            "    year  term department course_number num_sections enrollments median_gpa\n",
            "   <dbl> <dbl> <chr>              <dbl>        <dbl>       <dbl>      <dbl>\n",
            " 1  2021     3 AAAS                31.1            1          14       4   \n",
            " 2  2021     3 AAAS                31.9            1          17       4   \n",
            " 3  2021     3 AAAS                60.0            1          19       3.67\n",
            " 4  2021     3 AAAS                62.8            1          29       4   \n",
            " 5  2021     3 AAAS                65.6            1          16       3.33\n",
            " 6  2021     3 AAAS                88.2            1          19       4   \n",
            " 7  2021     3 ANTH                 3              1          58       3.67\n",
            " 8  2021     3 ANTH                18              1          16       4   \n",
            " 9  2021     3 <NA>                12.2            1          24       4   \n",
            "10  2021     3 ARTH                17.1            1          21       3.67\n",
            "# ℹ 1,550 more rows\n",
            "# ℹ 1 more variable: avg_size <dbl>\n",
            "# ℹ Use `print(n = ...)` to see more rows\n"
          ]
        }
      ],
      "source": [
        "%%R \n",
        "library('tidyverse') \n",
        "library('ggrepel')\n",
        "df <- read_csv('courses.csv') # load data \n",
        "df <- df %>% rename('year'=Year, \n",
        "                    'term'=`Term.Number`, \n",
        "                    'department'=Department, \n",
        "                    'course_number'=`Course.Number`, \n",
        "                    'num_sections'=`Number.of.Sections`, \n",
        "                    'enrollments'=Enrollments,\n",
        "                    'median_gpa'=`Median.GPA.Points`,\n",
        "                    'avg_size'=`Average.Section.Size`) # rename columns for easier typing\n",
        "#df <- df %>% mutate(continuous_term=(term + ifelse(year == 2021, 0, 4)))\n",
        "\n",
        "df"
      ]
    },
    {
      "cell_type": "code",
      "source": [
        "%%R\n",
        "# plotting class size vs. GPA points\n",
        "gg <- ggplot(df, aes(x=avg_size, y=median_gpa)) + geom_point(aes(col=department, size=enrollments)) + labs(y=\"Median GPA Points\", x=\"Average Class Size\", title=\"Class Size vs. GPA\")\n",
        "plot(gg)"
      ],
      "metadata": {
        "colab": {
          "base_uri": "https://localhost:8080/",
          "height": 497
        },
        "id": "vXAwuMx9ZhKc",
        "outputId": "f1ebc99d-9f5a-474d-d05b-b28299716f4e"
      },
      "execution_count": 15,
      "outputs": [
        {
          "output_type": "display_data",
          "data": {
            "image/png": "[encoded data removed]"
          },
          "metadata": {}
        }
      ]
    },
    {
      "cell_type": "code",
      "source": [
        "%%R\n",
        "# plotting class size vs. GPA points for CS classes only\n",
        "cs_df <- df %>% filter(department == \"COSC\") \n",
        "gg <- ggplot(cs_df, aes(x=avg_size, y=median_gpa)) + geom_point(aes(col=course_number, size=enrollments)) + labs(subtitle=\"CS Classes\", y=\"Median GPA Points\", x=\"Average Class Size\", title=\"Class Size vs. GPA\")\n",
        "plot(gg)"
      ],
      "metadata": {
        "colab": {
          "base_uri": "https://localhost:8080/",
          "height": 497
        },
        "id": "k1Imun04pbHy",
        "outputId": "bf4b17fe-9a71-4c31-99eb-3fe0b61e15bf"
      },
      "execution_count": 21,
      "outputs": [
        {
          "output_type": "display_data",
          "data": {
            "image/png": "[encoded data removed]"
          },
          "metadata": {}
        }
      ]
    },
    {
      "cell_type": "code",
      "source": [
        "%%R\n",
        "# plotting class size vs. GPA points for ECON classes only\n",
        "cs_df <- df %>% filter(department == \"ECON\") \n",
        "gg <- ggplot(cs_df, aes(x=avg_size, y=median_gpa)) + geom_point(aes(col=course_number, size=enrollments)) + labs(subtitle=\"Econ Classes\", y=\"Median GPA Points\", x=\"Average Class Size\", title=\"Class Size vs. GPA\")\n",
        "plot(gg)"
      ],
      "metadata": {
        "colab": {
          "base_uri": "https://localhost:8080/",
          "height": 497
        },
        "id": "A-wioDnvqGs0",
        "outputId": "bd02b7e3-286f-4a8b-e3dc-a392de6cd694"
      },
      "execution_count": 20,
      "outputs": [
        {
          "output_type": "display_data",
          "data": {
            "image/png": "[encoded data removed]"
          },
          "metadata": {}
        }
      ]
    },
    {
      "cell_type": "code",
      "source": [
        "%%R\n",
        "# plotting class size vs. GPA points for GOVT classes only\n",
        "cs_df <- df %>% filter(department == \"GOVT\") \n",
        "gg <- ggplot(cs_df, aes(x=avg_size, y=median_gpa)) + geom_point(aes(col=course_number, size=enrollments)) + labs(subtitle=\"GOVT Classes\", y=\"Median GPA Points\", x=\"Average Class Size\", title=\"Class Size vs. GPA\")\n",
        "plot(gg)"
      ],
      "metadata": {
        "colab": {
          "base_uri": "https://localhost:8080/",
          "height": 497
        },
        "id": "2jhBS6yXqdfj",
        "outputId": "33b11a00-2f30-4112-ee78-df85c1df6d7f"
      },
      "execution_count": 23,
      "outputs": [
        {
          "output_type": "display_data",
          "data": {
            "image/png": "[encoded data removed]"
          },
          "metadata": {}
        }
      ]
    },
    {
      "cell_type": "markdown",
      "source": [
        "# Statistical Analysis"
      ],
      "metadata": {
        "id": "-HZryQpYtaTy"
      }
    },
    {
      "cell_type": "code",
      "source": [
        "# Determine correlation between class size and gpa points\n",
        "print('Pearson coeff: ' + str(round(scipy.stats.pearsonr(df['avg_size'], df['median_gpa'])[0], 3)))\n",
        "print('Spearman coeff: ' + str(round(scipy.stats.spearmanr(df['avg_size'], df['median_gpa'])[0], 3)))"
      ],
      "metadata": {
        "colab": {
          "base_uri": "https://localhost:8080/"
        },
        "id": "2_fvx6vZtc18",
        "outputId": "fd7e5300-98e4-422b-a0c0-0d0ad87c9b6d"
      },
      "execution_count": 32,
      "outputs": [
        {
          "output_type": "stream",
          "name": "stdout",
          "text": [
            "Pearson coeff: -0.219\n",
            "Spearman coeff: -0.258\n"
          ]
        }
      ]
    },
    {
      "cell_type": "markdown",
      "source": [
        "# Machine Learning"
      ],
      "metadata": {
        "id": "olI04IOxxhVW"
      }
    },
    {
      "cell_type": "code",
      "source": [
        "from sklearn.model_selection import train_test_split\n",
        "from sklearn.linear_model import LinearRegression\n",
        "from sklearn.metrics import mean_squared_error, mean_absolute_error\n",
        "\n",
        "econ_courses = df.loc[df['department'] == \"ECON\"]\n",
        "govt_courses = df.loc[df['department'] == \"GOVT\"]"
      ],
      "metadata": {
        "id": "5lL2UveftuFY"
      },
      "execution_count": 51,
      "outputs": []
    },
    {
      "cell_type": "code",
      "source": [
        "# regression on all courses\n",
        "\n",
        "# allocate training and testing sets\n",
        "train, test = train_test_split(df[['avg_size', 'median_gpa']], test_size=0.2)\n",
        "\n",
        "# train model using training sets\n",
        "regr = LinearRegression()\n",
        "regr.fit(np.array(train[\"avg_size\"].tolist()).reshape(-1, 1), train['median_gpa'])\n",
        "\n",
        "# get predictions\n",
        "test_pred = reg.predict(np.array(test[\"avg_size\"].tolist()).reshape(-1, 1))\n",
        "\n",
        "# print coefficient\n",
        "print(\"Coefficient: \", regr.coef_)\n",
        "\n",
        "# print mean squared error (MSE) and mean absolute error (MAE)\n",
        "print(\"Mean absolute error: %.2f\" % mean_absolute_error(test[\"median_gpa\"], test_pred))\n",
        "print(\"Mean squared error: %.2f\" % mean_squared_error(test[\"median_gpa\"], test_pred))"
      ],
      "metadata": {
        "colab": {
          "base_uri": "https://localhost:8080/"
        },
        "id": "vmwu54fv97v8",
        "outputId": "b41a22e4-0b14-4f79-8035-4ce0da5b01df"
      },
      "execution_count": 68,
      "outputs": [
        {
          "output_type": "stream",
          "name": "stdout",
          "text": [
            "Coefficient:  [-0.00286568]\n",
            "Mean absolute error: 0.22\n",
            "Mean squared error: 0.07\n"
          ]
        }
      ]
    },
    {
      "cell_type": "code",
      "source": [
        "# plot regression for all courses on test data\n",
        "plt.scatter(test['avg_size'], test['median_gpa'], color=\"black\")\n",
        "plt.plot(test['avg_size'], test_pred, color=\"blue\", linewidth=3)\n",
        "plt.xlabel(\"Average Class Size\")\n",
        "plt.ylabel(\"Median GPA Points\")"
      ],
      "metadata": {
        "colab": {
          "base_uri": "https://localhost:8080/",
          "height": 467
        },
        "id": "RojR4JnE-FcS",
        "outputId": "b7835901-4765-40c1-e75d-4d21c1783e4f"
      },
      "execution_count": 69,
      "outputs": [
        {
          "output_type": "execute_result",
          "data": {
            "text/plain": [
              "Text(0, 0.5, 'Median GPA Points')"
            ]
          },
          "metadata": {},
          "execution_count": 69
        },
        {
          "output_type": "display_data",
          "data": {
            "text/plain": [
              "<Figure size 640x480 with 1 Axes>"
            ],
            "image/png": "[encoded data removed]"
          },
          "metadata": {}
        }
      ]
    },
    {
      "cell_type": "code",
      "source": [
        "# get courses in CS department\n",
        "cs_courses = df.loc[df['department'] == \"COSC\"]\n",
        "cs_courses.head()"
      ],
      "metadata": {
        "colab": {
          "base_uri": "https://localhost:8080/",
          "height": 206
        },
        "id": "riWGP7bf5W5S",
        "outputId": "a76e155b-76f1-44aa-bf20-035998423170"
      },
      "execution_count": 52,
      "outputs": [
        {
          "output_type": "execute_result",
          "data": {
            "text/plain": [
              "    year  term department  course_number  number_sections  enrollments  \\\n",
              "30  2021     3       COSC           21.0                1           25   \n",
              "31  2021     3       COSC           30.0                1           55   \n",
              "32  2021     3       COSC           50.0                1           41   \n",
              "33  2021     3       COSC           56.0                1           36   \n",
              "34  2021     3       COSC           59.0                1           30   \n",
              "\n",
              "    median_gpa  avg_size  \n",
              "30    4.000000      25.0  \n",
              "31    3.333333      63.0  \n",
              "32    4.000000      41.0  \n",
              "33    3.666667      36.0  \n",
              "34    4.000000      30.0  "
            ],
            "text/html": [
              "\n",
              "  <div id=\"df-1c8fd8c6-2dc7-4c71-b91a-f924ae83b8fe\">\n",
              "    <div class=\"colab-df-container\">\n",
              "      <div>\n",
              "<style scoped>\n",
              "    .dataframe tbody tr th:only-of-type {\n",
              "        vertical-align: middle;\n",
              "    }\n",
              "\n",
              "    .dataframe tbody tr th {\n",
              "        vertical-align: top;\n",
              "    }\n",
              "\n",
              "    .dataframe thead th {\n",
              "        text-align: right;\n",
              "    }\n",
              "</style>\n",
              "<table border=\"1\" class=\"dataframe\">\n",
              "  <thead>\n",
              "    <tr style=\"text-align: right;\">\n",
              "      <th></th>\n",
              "      <th>year</th>\n",
              "      <th>term</th>\n",
              "      <th>department</th>\n",
              "      <th>course_number</th>\n",
              "      <th>number_sections</th>\n",
              "      <th>enrollments</th>\n",
              "      <th>median_gpa</th>\n",
              "      <th>avg_size</th>\n",
              "    </tr>\n",
              "  </thead>\n",
              "  <tbody>\n",
              "    <tr>\n",
              "      <th>30</th>\n",
              "      <td>2021</td>\n",
              "      <td>3</td>\n",
              "      <td>COSC</td>\n",
              "      <td>21.0</td>\n",
              "      <td>1</td>\n",
              "      <td>25</td>\n",
              "      <td>4.000000</td>\n",
              "      <td>25.0</td>\n",
              "    </tr>\n",
              "    <tr>\n",
              "      <th>31</th>\n",
              "      <td>2021</td>\n",
              "      <td>3</td>\n",
              "      <td>COSC</td>\n",
              "      <td>30.0</td>\n",
              "      <td>1</td>\n",
              "      <td>55</td>\n",
              "      <td>3.333333</td>\n",
              "      <td>63.0</td>\n",
              "    </tr>\n",
              "    <tr>\n",
              "      <th>32</th>\n",
              "      <td>2021</td>\n",
              "      <td>3</td>\n",
              "      <td>COSC</td>\n",
              "      <td>50.0</td>\n",
              "      <td>1</td>\n",
              "      <td>41</td>\n",
              "      <td>4.000000</td>\n",
              "      <td>41.0</td>\n",
              "    </tr>\n",
              "    <tr>\n",
              "      <th>33</th>\n",
              "      <td>2021</td>\n",
              "      <td>3</td>\n",
              "      <td>COSC</td>\n",
              "      <td>56.0</td>\n",
              "      <td>1</td>\n",
              "      <td>36</td>\n",
              "      <td>3.666667</td>\n",
              "      <td>36.0</td>\n",
              "    </tr>\n",
              "    <tr>\n",
              "      <th>34</th>\n",
              "      <td>2021</td>\n",
              "      <td>3</td>\n",
              "      <td>COSC</td>\n",
              "      <td>59.0</td>\n",
              "      <td>1</td>\n",
              "      <td>30</td>\n",
              "      <td>4.000000</td>\n",
              "      <td>30.0</td>\n",
              "    </tr>\n",
              "  </tbody>\n",
              "</table>\n",
              "</div>\n",
              "      <button class=\"colab-df-convert\" onclick=\"convertToInteractive('df-1c8fd8c6-2dc7-4c71-b91a-f924ae83b8fe')\"\n",
              "              title=\"Convert this dataframe to an interactive table.\"\n",
              "              style=\"display:none;\">\n",
              "        \n",
              "  <svg xmlns=\"http://www.w3.org/2000/svg\" height=\"24px\"viewBox=\"0 0 24 24\"\n",
              "       width=\"24px\">\n",
              "    <path d=\"M0 0h24v24H0V0z\" fill=\"none\"/>\n",
              "    <path d=\"M18.56 5.44l.94 2.06.94-2.06 2.06-.94-2.06-.94-.94-2.06-.94 2.06-2.06.94zm-11 1L8.5 8.5l.94-2.06 2.06-.94-2.06-.94L8.5 2.5l-.94 2.06-2.06.94zm10 10l.94 2.06.94-2.06 2.06-.94-2.06-.94-.94-2.06-.94 2.06-2.06.94z\"/><path d=\"M17.41 7.96l-1.37-1.37c-.4-.4-.92-.59-1.43-.59-.52 0-1.04.2-1.43.59L10.3 9.45l-7.72 7.72c-.78.78-.78 2.05 0 2.83L4 21.41c.39.39.9.59 1.41.59.51 0 1.02-.2 1.41-.59l7.78-7.78 2.81-2.81c.8-.78.8-2.07 0-2.86zM5.41 20L4 18.59l7.72-7.72 1.47 1.35L5.41 20z\"/>\n",
              "  </svg>\n",
              "      </button>\n",
              "      \n",
              "  <style>\n",
              "    .colab-df-container {\n",
              "      display:flex;\n",
              "      flex-wrap:wrap;\n",
              "      gap: 12px;\n",
              "    }\n",
              "\n",
              "    .colab-df-convert {\n",
              "      background-color: #E8F0FE;\n",
              "      border: none;\n",
              "      border-radius: 50%;\n",
              "      cursor: pointer;\n",
              "      display: none;\n",
              "      fill: #1967D2;\n",
              "      height: 32px;\n",
              "      padding: 0 0 0 0;\n",
              "      width: 32px;\n",
              "    }\n",
              "\n",
              "    .colab-df-convert:hover {\n",
              "      background-color: #E2EBFA;\n",
              "      box-shadow: 0px 1px 2px rgba(60, 64, 67, 0.3), 0px 1px 3px 1px rgba(60, 64, 67, 0.15);\n",
              "      fill: #174EA6;\n",
              "    }\n",
              "\n",
              "    [theme=dark] .colab-df-convert {\n",
              "      background-color: #3B4455;\n",
              "      fill: #D2E3FC;\n",
              "    }\n",
              "\n",
              "    [theme=dark] .colab-df-convert:hover {\n",
              "      background-color: #434B5C;\n",
              "      box-shadow: 0px 1px 3px 1px rgba(0, 0, 0, 0.15);\n",
              "      filter: drop-shadow(0px 1px 2px rgba(0, 0, 0, 0.3));\n",
              "      fill: #FFFFFF;\n",
              "    }\n",
              "  </style>\n",
              "\n",
              "      <script>\n",
              "        const buttonEl =\n",
              "          document.querySelector('#df-1c8fd8c6-2dc7-4c71-b91a-f924ae83b8fe button.colab-df-convert');\n",
              "        buttonEl.style.display =\n",
              "          google.colab.kernel.accessAllowed ? 'block' : 'none';\n",
              "\n",
              "        async function convertToInteractive(key) {\n",
              "          const element = document.querySelector('#df-1c8fd8c6-2dc7-4c71-b91a-f924ae83b8fe');\n",
              "          const dataTable =\n",
              "            await google.colab.kernel.invokeFunction('convertToInteractive',\n",
              "                                                     [key], {});\n",
              "          if (!dataTable) return;\n",
              "\n",
              "          const docLinkHtml = 'Like what you see? Visit the ' +\n",
              "            '<a target=\"_blank\" href=https://colab.research.google.com/notebooks/data_table.ipynb>data table notebook</a>'\n",
              "            + ' to learn more about interactive tables.';\n",
              "          element.innerHTML = '';\n",
              "          dataTable['output_type'] = 'display_data';\n",
              "          await google.colab.output.renderOutput(dataTable, element);\n",
              "          const docLink = document.createElement('div');\n",
              "          docLink.innerHTML = docLinkHtml;\n",
              "          element.appendChild(docLink);\n",
              "        }\n",
              "      </script>\n",
              "    </div>\n",
              "  </div>\n",
              "  "
            ]
          },
          "metadata": {},
          "execution_count": 52
        }
      ]
    },
    {
      "cell_type": "code",
      "source": [
        "# allocate training and testing sets\n",
        "train, test = train_test_split(cs_courses[['avg_size', 'median_gpa']], test_size=0.3)\n",
        "\n",
        "# train model using training sets\n",
        "regr = LinearRegression()\n",
        "regr.fit(np.array(train[\"avg_size\"].tolist()).reshape(-1, 1), train['median_gpa'])\n",
        "\n",
        "# get predictions\n",
        "test_pred = reg.predict(np.array(test[\"avg_size\"].tolist()).reshape(-1, 1))\n",
        "\n",
        "# print coefficient\n",
        "print(\"Coefficient: \", regr.coef_)\n",
        "\n",
        "# print mean squared error (MSE) and mean absolute error (MAE)\n",
        "print(\"Mean absolute error: %.2f\" % mean_absolute_error(test[\"median_gpa\"], test_pred))\n",
        "print(\"Mean squared error: %.2f\" % mean_squared_error(test[\"median_gpa\"], test_pred))"
      ],
      "metadata": {
        "colab": {
          "base_uri": "https://localhost:8080/"
        },
        "id": "vDxtLker1_ri",
        "outputId": "4dcd7271-bc8e-4e2e-f003-8e8973b7cb81"
      },
      "execution_count": 64,
      "outputs": [
        {
          "output_type": "stream",
          "name": "stdout",
          "text": [
            "Coefficient:  [0.00016885]\n",
            "Mean absolute error: 0.20\n",
            "Mean squared error: 0.05\n"
          ]
        }
      ]
    },
    {
      "cell_type": "code",
      "source": [
        "# plot regression for CS courses on test data\n",
        "plt.scatter(test['avg_size'], test['median_gpa'], color=\"black\")\n",
        "plt.plot(test['avg_size'], test_pred, color=\"blue\", linewidth=3)\n",
        "plt.xlabel(\"Average Class Size (CS)\")\n",
        "plt.ylabel(\"Median GPA Points\")"
      ],
      "metadata": {
        "colab": {
          "base_uri": "https://localhost:8080/",
          "height": 467
        },
        "id": "9rzeNi-z8kSw",
        "outputId": "4735f6b7-1f5f-49a0-d7a0-a8d7af6d6f02"
      },
      "execution_count": 65,
      "outputs": [
        {
          "output_type": "execute_result",
          "data": {
            "text/plain": [
              "Text(0, 0.5, 'Median GPA Points')"
            ]
          },
          "metadata": {},
          "execution_count": 65
        },
        {
          "output_type": "display_data",
          "data": {
            "text/plain": [
              "<Figure size 640x480 with 1 Axes>"
            ],
            "image/png": "[encoded data removed]"
          },
          "metadata": {}
        }
      ]
    },
    {
      "cell_type": "code",
      "source": [
        "# get courses in ECON department\n",
        "econ_courses = df.loc[df['department'] == \"ECON\"]\n",
        "econ_courses.head()"
      ],
      "metadata": {
        "colab": {
          "base_uri": "https://localhost:8080/",
          "height": 206
        },
        "id": "tP0Hk4XN8v0_",
        "outputId": "538fd5a2-ffd9-4af7-c63b-537509770169"
      },
      "execution_count": 66,
      "outputs": [
        {
          "output_type": "execute_result",
          "data": {
            "text/plain": [
              "     year  term department  course_number  number_sections  enrollments  \\\n",
              "38   2021     3       ECON           20.0                2           84   \n",
              "39   2021     3       ECON            2.0                2          110   \n",
              "41   2021     3       ECON           26.0                2           92   \n",
              "260  2021     4       ECON            1.0                5          325   \n",
              "261  2021     4       ECON            2.0                1           42   \n",
              "\n",
              "     median_gpa  avg_size  \n",
              "38     3.333333      42.0  \n",
              "39     3.333333      55.0  \n",
              "41     3.666667      46.0  \n",
              "260    3.333333      65.0  \n",
              "261    3.666667      41.0  "
            ],
            "text/html": [
              "\n",
              "  <div id=\"df-2d6eff79-b571-4af0-98bd-b723f128a0e7\">\n",
              "    <div class=\"colab-df-container\">\n",
              "      <div>\n",
              "<style scoped>\n",
              "    .dataframe tbody tr th:only-of-type {\n",
              "        vertical-align: middle;\n",
              "    }\n",
              "\n",
              "    .dataframe tbody tr th {\n",
              "        vertical-align: top;\n",
              "    }\n",
              "\n",
              "    .dataframe thead th {\n",
              "        text-align: right;\n",
              "    }\n",
              "</style>\n",
              "<table border=\"1\" class=\"dataframe\">\n",
              "  <thead>\n",
              "    <tr style=\"text-align: right;\">\n",
              "      <th></th>\n",
              "      <th>year</th>\n",
              "      <th>term</th>\n",
              "      <th>department</th>\n",
              "      <th>course_number</th>\n",
              "      <th>number_sections</th>\n",
              "      <th>enrollments</th>\n",
              "      <th>median_gpa</th>\n",
              "      <th>avg_size</th>\n",
              "    </tr>\n",
              "  </thead>\n",
              "  <tbody>\n",
              "    <tr>\n",
              "      <th>38</th>\n",
              "      <td>2021</td>\n",
              "      <td>3</td>\n",
              "      <td>ECON</td>\n",
              "      <td>20.0</td>\n",
              "      <td>2</td>\n",
              "      <td>84</td>\n",
              "      <td>3.333333</td>\n",
              "      <td>42.0</td>\n",
              "    </tr>\n",
              "    <tr>\n",
              "      <th>39</th>\n",
              "      <td>2021</td>\n",
              "      <td>3</td>\n",
              "      <td>ECON</td>\n",
              "      <td>2.0</td>\n",
              "      <td>2</td>\n",
              "      <td>110</td>\n",
              "      <td>3.333333</td>\n",
              "      <td>55.0</td>\n",
              "    </tr>\n",
              "    <tr>\n",
              "      <th>41</th>\n",
              "      <td>2021</td>\n",
              "      <td>3</td>\n",
              "      <td>ECON</td>\n",
              "      <td>26.0</td>\n",
              "      <td>2</td>\n",
              "      <td>92</td>\n",
              "      <td>3.666667</td>\n",
              "      <td>46.0</td>\n",
              "    </tr>\n",
              "    <tr>\n",
              "      <th>260</th>\n",
              "      <td>2021</td>\n",
              "      <td>4</td>\n",
              "      <td>ECON</td>\n",
              "      <td>1.0</td>\n",
              "      <td>5</td>\n",
              "      <td>325</td>\n",
              "      <td>3.333333</td>\n",
              "      <td>65.0</td>\n",
              "    </tr>\n",
              "    <tr>\n",
              "      <th>261</th>\n",
              "      <td>2021</td>\n",
              "      <td>4</td>\n",
              "      <td>ECON</td>\n",
              "      <td>2.0</td>\n",
              "      <td>1</td>\n",
              "      <td>42</td>\n",
              "      <td>3.666667</td>\n",
              "      <td>41.0</td>\n",
              "    </tr>\n",
              "  </tbody>\n",
              "</table>\n",
              "</div>\n",
              "      <button class=\"colab-df-convert\" onclick=\"convertToInteractive('df-2d6eff79-b571-4af0-98bd-b723f128a0e7')\"\n",
              "              title=\"Convert this dataframe to an interactive table.\"\n",
              "              style=\"display:none;\">\n",
              "        \n",
              "  <svg xmlns=\"http://www.w3.org/2000/svg\" height=\"24px\"viewBox=\"0 0 24 24\"\n",
              "       width=\"24px\">\n",
              "    <path d=\"M0 0h24v24H0V0z\" fill=\"none\"/>\n",
              "    <path d=\"M18.56 5.44l.94 2.06.94-2.06 2.06-.94-2.06-.94-.94-2.06-.94 2.06-2.06.94zm-11 1L8.5 8.5l.94-2.06 2.06-.94-2.06-.94L8.5 2.5l-.94 2.06-2.06.94zm10 10l.94 2.06.94-2.06 2.06-.94-2.06-.94-.94-2.06-.94 2.06-2.06.94z\"/><path d=\"M17.41 7.96l-1.37-1.37c-.4-.4-.92-.59-1.43-.59-.52 0-1.04.2-1.43.59L10.3 9.45l-7.72 7.72c-.78.78-.78 2.05 0 2.83L4 21.41c.39.39.9.59 1.41.59.51 0 1.02-.2 1.41-.59l7.78-7.78 2.81-2.81c.8-.78.8-2.07 0-2.86zM5.41 20L4 18.59l7.72-7.72 1.47 1.35L5.41 20z\"/>\n",
              "  </svg>\n",
              "      </button>\n",
              "      \n",
              "  <style>\n",
              "    .colab-df-container {\n",
              "      display:flex;\n",
              "      flex-wrap:wrap;\n",
              "      gap: 12px;\n",
              "    }\n",
              "\n",
              "    .colab-df-convert {\n",
              "      background-color: #E8F0FE;\n",
              "      border: none;\n",
              "      border-radius: 50%;\n",
              "      cursor: pointer;\n",
              "      display: none;\n",
              "      fill: #1967D2;\n",
              "      height: 32px;\n",
              "      padding: 0 0 0 0;\n",
              "      width: 32px;\n",
              "    }\n",
              "\n",
              "    .colab-df-convert:hover {\n",
              "      background-color: #E2EBFA;\n",
              "      box-shadow: 0px 1px 2px rgba(60, 64, 67, 0.3), 0px 1px 3px 1px rgba(60, 64, 67, 0.15);\n",
              "      fill: #174EA6;\n",
              "    }\n",
              "\n",
              "    [theme=dark] .colab-df-convert {\n",
              "      background-color: #3B4455;\n",
              "      fill: #D2E3FC;\n",
              "    }\n",
              "\n",
              "    [theme=dark] .colab-df-convert:hover {\n",
              "      background-color: #434B5C;\n",
              "      box-shadow: 0px 1px 3px 1px rgba(0, 0, 0, 0.15);\n",
              "      filter: drop-shadow(0px 1px 2px rgba(0, 0, 0, 0.3));\n",
              "      fill: #FFFFFF;\n",
              "    }\n",
              "  </style>\n",
              "\n",
              "      <script>\n",
              "        const buttonEl =\n",
              "          document.querySelector('#df-2d6eff79-b571-4af0-98bd-b723f128a0e7 button.colab-df-convert');\n",
              "        buttonEl.style.display =\n",
              "          google.colab.kernel.accessAllowed ? 'block' : 'none';\n",
              "\n",
              "        async function convertToInteractive(key) {\n",
              "          const element = document.querySelector('#df-2d6eff79-b571-4af0-98bd-b723f128a0e7');\n",
              "          const dataTable =\n",
              "            await google.colab.kernel.invokeFunction('convertToInteractive',\n",
              "                                                     [key], {});\n",
              "          if (!dataTable) return;\n",
              "\n",
              "          const docLinkHtml = 'Like what you see? Visit the ' +\n",
              "            '<a target=\"_blank\" href=https://colab.research.google.com/notebooks/data_table.ipynb>data table notebook</a>'\n",
              "            + ' to learn more about interactive tables.';\n",
              "          element.innerHTML = '';\n",
              "          dataTable['output_type'] = 'display_data';\n",
              "          await google.colab.output.renderOutput(dataTable, element);\n",
              "          const docLink = document.createElement('div');\n",
              "          docLink.innerHTML = docLinkHtml;\n",
              "          element.appendChild(docLink);\n",
              "        }\n",
              "      </script>\n",
              "    </div>\n",
              "  </div>\n",
              "  "
            ]
          },
          "metadata": {},
          "execution_count": 66
        }
      ]
    },
    {
      "cell_type": "code",
      "source": [
        "# allocate training and testing sets\n",
        "train, test = train_test_split(econ_courses[['avg_size', 'median_gpa']], test_size=0.3)\n",
        "\n",
        "# train model using training sets\n",
        "regr = LinearRegression()\n",
        "regr.fit(np.array(train[\"avg_size\"].tolist()).reshape(-1, 1), train['median_gpa'])\n",
        "\n",
        "# get predictions\n",
        "test_pred = reg.predict(np.array(test[\"avg_size\"].tolist()).reshape(-1, 1))\n",
        "\n",
        "# print coefficient\n",
        "print(\"Coefficient: \", regr.coef_)\n",
        "\n",
        "# print mean squared error (MSE) and mean absolute error (MAE)\n",
        "print(\"Mean absolute error: %.2f\" % mean_absolute_error(test[\"median_gpa\"], test_pred))\n",
        "print(\"Mean squared error: %.2f\" % mean_squared_error(test[\"median_gpa\"], test_pred))"
      ],
      "metadata": {
        "colab": {
          "base_uri": "https://localhost:8080/"
        },
        "id": "MTDdYpei9I1H",
        "outputId": "8ce5421c-4736-4f71-b54a-46877e065eef"
      },
      "execution_count": 67,
      "outputs": [
        {
          "output_type": "stream",
          "name": "stdout",
          "text": [
            "Coefficient:  [-0.00285377]\n",
            "Mean absolute error: 0.27\n",
            "Mean squared error: 0.10\n"
          ]
        }
      ]
    },
    {
      "cell_type": "code",
      "source": [
        "# plot regression for econ courses on test data\n",
        "plt.scatter(test['avg_size'], test['median_gpa'], color=\"black\")\n",
        "plt.plot(test['avg_size'], test_pred, color=\"blue\", linewidth=3)\n",
        "plt.xlabel(\"Average Class Size (ECON)\")\n",
        "plt.ylabel(\"Median GPA Points\")"
      ],
      "metadata": {
        "colab": {
          "base_uri": "https://localhost:8080/",
          "height": 467
        },
        "id": "lKq-s5UD9NYM",
        "outputId": "f4522415-83ef-4817-a4a0-560b50b2e5c3"
      },
      "execution_count": 63,
      "outputs": [
        {
          "output_type": "execute_result",
          "data": {
            "text/plain": [
              "Text(0, 0.5, 'Median GPA Points')"
            ]
          },
          "metadata": {},
          "execution_count": 63
        },
        {
          "output_type": "display_data",
          "data": {
            "text/plain": [
              "<Figure size 640x480 with 1 Axes>"
            ],
            "image/png": "[encoded data removed]"
          },
          "metadata": {}
        }
      ]
    },
    {
      "cell_type": "code",
      "source": [
        "# get courses in GOVT department \n",
        "govt_courses = df.loc[df['department'] == \"GOVT\"]\n",
        "govt_courses.head()"
      ],
      "metadata": {
        "id": "zy1aMSA49SEZ"
      },
      "execution_count": null,
      "outputs": []
    },
    {
      "cell_type": "code",
      "source": [
        "# allocate training and testing sets\n",
        "train, test = train_test_split(govt_courses[['avg_size', 'median_gpa']], test_size=0.3)\n",
        "\n",
        "# train model using training sets\n",
        "regr = LinearRegression()\n",
        "regr.fit(np.array(train[\"avg_size\"].tolist()).reshape(-1, 1), train['median_gpa'])\n",
        "\n",
        "# get predictions\n",
        "test_pred = reg.predict(np.array(test[\"avg_size\"].tolist()).reshape(-1, 1))\n",
        "\n",
        "# print coefficient\n",
        "print(\"Coefficient: \", regr.coef_)\n",
        "\n",
        "# print mean squared error (MSE) and mean absolute error (MAE)\n",
        "print(\"Mean absolute error: %.2f\" % mean_absolute_error(test[\"median_gpa\"], test_pred))\n",
        "print(\"Mean squared error: %.2f\" % mean_squared_error(test[\"median_gpa\"], test_pred))"
      ],
      "metadata": {
        "colab": {
          "base_uri": "https://localhost:8080/"
        },
        "id": "nOo6MXLW-UOx",
        "outputId": "b569805c-d31a-43e5-db43-1aecda19a2c3"
      },
      "execution_count": 70,
      "outputs": [
        {
          "output_type": "stream",
          "name": "stdout",
          "text": [
            "Coefficient:  [-0.00740967]\n",
            "Mean absolute error: 0.24\n",
            "Mean squared error: 0.07\n"
          ]
        }
      ]
    },
    {
      "cell_type": "code",
      "source": [
        "# plot regression for GOVT courses on test data\n",
        "plt.scatter(test['avg_size'], test['median_gpa'], color=\"black\")\n",
        "plt.plot(test['avg_size'], test_pred, color=\"blue\", linewidth=3)\n",
        "plt.xlabel(\"Average Class Size (CS)\")\n",
        "plt.ylabel(\"Median GPA Points\")"
      ],
      "metadata": {
        "colab": {
          "base_uri": "https://localhost:8080/",
          "height": 467
        },
        "id": "S_8p-yYJ-evf",
        "outputId": "5ac27ce0-68e6-479a-96ca-75fd854119d7"
      },
      "execution_count": 71,
      "outputs": [
        {
          "output_type": "execute_result",
          "data": {
            "text/plain": [
              "Text(0, 0.5, 'Median GPA Points')"
            ]
          },
          "metadata": {},
          "execution_count": 71
        },
        {
          "output_type": "display_data",
          "data": {
            "text/plain": [
              "<Figure size 640x480 with 1 Axes>"
            ],
            "image/png": "[encoded data removed]"
          },
          "metadata": {}
        }
      ]
    }
  ],
  "metadata": {
    "colab": {
      "provenance": []
    },
    "kernelspec": {
      "display_name": "Python 3",
      "name": "python3"
    },
    "language_info": {
      "name": "python"
    }
  },
  "nbformat": 4,
  "nbformat_minor": 0
}